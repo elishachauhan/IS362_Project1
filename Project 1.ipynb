{
 "cells": [
  {
   "cell_type": "markdown",
   "metadata": {},
   "source": [
    "## Project 1\n",
    "\n",
    "### Airline Delays"
   ]
  },
  {
   "cell_type": "markdown",
   "metadata": {},
   "source": [
    "#### Project Task:\n",
    "\n",
    "(1) Create a .CSV file (or optionally, a MySQL database!) that all of the information in the table. You may change the structure  of the information as you like.\n",
    "\n",
    "(2) Read the information from you .CSV file into pandas, and perform analysis to compare the arrival delays for the two airlines \n",
    "\n",
    "(3) Your code should be in a Jupyter (IPython) notebook (in GitHub), and should include narrative descriptions of your analysis and conclusions."
   ]
  },
  {
   "cell_type": "markdown",
   "metadata": {},
   "source": [
    "##### Loading CSV file to read in Pandas DataFrame:"
   ]
  },
  {
   "cell_type": "markdown",
   "metadata": {},
   "source": [
    "Importing the pandas library is accomplished below:"
   ]
  },
  {
   "cell_type": "code",
   "execution_count": 1,
   "metadata": {
    "collapsed": true
   },
   "outputs": [],
   "source": [
    "import pandas as pd"
   ]
  },
  {
   "cell_type": "markdown",
   "metadata": {},
   "source": [
    "After importing the pandas module, reading the CSV file is done through .read_csv(): "
   ]
  },
  {
   "cell_type": "code",
   "execution_count": 2,
   "metadata": {
    "collapsed": true
   },
   "outputs": [],
   "source": [
    "airline_info = pd.read_csv(r'C:\\Users\\DJEli112\\Desktop\\Project1.csv', index_col = 0)"
   ]
  },
  {
   "cell_type": "markdown",
   "metadata": {},
   "source": [
    "Next, .head() is utilized to display the first 5 rows of this data: "
   ]
  },
  {
   "cell_type": "code",
   "execution_count": 3,
   "metadata": {
    "collapsed": false
   },
   "outputs": [
    {
     "data": {
      "text/html": [
       "<div>\n",
       "<table border=\"1\" class=\"dataframe\">\n",
       "  <thead>\n",
       "    <tr style=\"text-align: right;\">\n",
       "      <th></th>\n",
       "      <th>City</th>\n",
       "      <th>AlaskaOnTime</th>\n",
       "      <th>AlaskaDelay</th>\n",
       "      <th>AMWestOnTime</th>\n",
       "      <th>AMWestDelay</th>\n",
       "    </tr>\n",
       "  </thead>\n",
       "  <tbody>\n",
       "    <tr>\n",
       "      <th>0</th>\n",
       "      <td>Los Angeles</td>\n",
       "      <td>497</td>\n",
       "      <td>62</td>\n",
       "      <td>694</td>\n",
       "      <td>117</td>\n",
       "    </tr>\n",
       "    <tr>\n",
       "      <th>1</th>\n",
       "      <td>Phoenix</td>\n",
       "      <td>221</td>\n",
       "      <td>12</td>\n",
       "      <td>4840</td>\n",
       "      <td>415</td>\n",
       "    </tr>\n",
       "    <tr>\n",
       "      <th>2</th>\n",
       "      <td>San Diego</td>\n",
       "      <td>212</td>\n",
       "      <td>20</td>\n",
       "      <td>383</td>\n",
       "      <td>65</td>\n",
       "    </tr>\n",
       "    <tr>\n",
       "      <th>3</th>\n",
       "      <td>San Francisco</td>\n",
       "      <td>503</td>\n",
       "      <td>102</td>\n",
       "      <td>320</td>\n",
       "      <td>129</td>\n",
       "    </tr>\n",
       "    <tr>\n",
       "      <th>4</th>\n",
       "      <td>Seattle</td>\n",
       "      <td>1841</td>\n",
       "      <td>305</td>\n",
       "      <td>201</td>\n",
       "      <td>61</td>\n",
       "    </tr>\n",
       "  </tbody>\n",
       "</table>\n",
       "</div>"
      ],
      "text/plain": [
       "            City  AlaskaOnTime  AlaskaDelay  AMWestOnTime  AMWestDelay\n",
       "0    Los Angeles           497           62           694          117\n",
       "1        Phoenix           221           12          4840          415\n",
       "2      San Diego           212           20           383           65\n",
       "3  San Francisco           503          102           320          129\n",
       "4        Seattle          1841          305           201           61"
      ]
     },
     "execution_count": 3,
     "metadata": {},
     "output_type": "execute_result"
    }
   ],
   "source": [
    "airline_info.head()"
   ]
  },
  {
   "cell_type": "markdown",
   "metadata": {},
   "source": [
    "As shown in the CSV file, the table displays each on time and delayed arrivals for each city on different airlines. In this case, we are studying two airlines: Alaska and AM West. In order to properly analyze these values, it is important to find out percentage of delayed arrivals for each city."
   ]
  },
  {
   "cell_type": "markdown",
   "metadata": {},
   "source": [
    "##### Calculating Percentages for each Airline:"
   ]
  },
  {
   "cell_type": "markdown",
   "metadata": {},
   "source": [
    "In order to calculate the percentages, we will create a formula that utilizes Python operators. In this instance, arrivals that were on time and delayed are added together to give the total arrivals. Dividing the total by the delayed arrivals is the next step. Since it displays a float or decimal, multiplying by 100 shows the percentage as a whole number with decimals."
   ]
  },
  {
   "cell_type": "code",
   "execution_count": 5,
   "metadata": {
    "collapsed": false
   },
   "outputs": [
    {
     "data": {
      "text/plain": [
       "0    11.091234\n",
       "1     5.150215\n",
       "2     8.620690\n",
       "3    16.859504\n",
       "4    14.212488\n",
       "Name: AlaskaPercentagesOfDelay, dtype: float64"
      ]
     },
     "execution_count": 5,
     "metadata": {},
     "output_type": "execute_result"
    }
   ],
   "source": [
    "airline_info['TotalAlaskaArrivals'] = airline_info['AlaskaOnTime'] + airline_info['AlaskaDelay']\n",
    "\n",
    "airline_info['AlaskaPercentagesOfDelay'] = (airline_info['AlaskaDelay'] / airline_info['TotalAlaskaArrivals']) * 100\n",
    "\n",
    "airline_info['AlaskaPercentagesOfDelay']"
   ]
  },
  {
   "cell_type": "code",
   "execution_count": 6,
   "metadata": {
    "collapsed": false
   },
   "outputs": [
    {
     "data": {
      "text/plain": [
       "0    14.426634\n",
       "1     7.897241\n",
       "2    14.508929\n",
       "3    28.730512\n",
       "4    23.282443\n",
       "Name: AMWestPercentagesOfDelay, dtype: float64"
      ]
     },
     "execution_count": 6,
     "metadata": {},
     "output_type": "execute_result"
    }
   ],
   "source": [
    "airline_info['TotalAMWestArrivals'] = airline_info['AMWestOnTime'] + airline_info['AMWestDelay']\n",
    "\n",
    "airline_info['AMWestPercentagesOfDelay'] = (airline_info['AMWestDelay'] / airline_info['TotalAMWestArrivals']) * 100\n",
    "\n",
    "airline_info['AMWestPercentagesOfDelay']"
   ]
  },
  {
   "cell_type": "markdown",
   "metadata": {},
   "source": [
    "For each respective city, there is a primary key that is labeled with numbers keyed to the cities on the original table. The percentages shown above are the percentages that will be shown as added rows to the table. Additionally, I also added the total arrivals for each airline as well. Both of these new additions can be displayed by returning the airline_info statement."
   ]
  },
  {
   "cell_type": "markdown",
   "metadata": {},
   "source": [
    "##### Displaying the Table after adding the Percentages:"
   ]
  },
  {
   "cell_type": "code",
   "execution_count": 7,
   "metadata": {
    "collapsed": false
   },
   "outputs": [
    {
     "data": {
      "text/html": [
       "<div>\n",
       "<table border=\"1\" class=\"dataframe\">\n",
       "  <thead>\n",
       "    <tr style=\"text-align: right;\">\n",
       "      <th></th>\n",
       "      <th>City</th>\n",
       "      <th>AlaskaOnTime</th>\n",
       "      <th>AlaskaDelay</th>\n",
       "      <th>AMWestOnTime</th>\n",
       "      <th>AMWestDelay</th>\n",
       "      <th>TotalAlaskaArrivals</th>\n",
       "      <th>AlaskaPercentagesOfDelay</th>\n",
       "      <th>TotalAMWestArrivals</th>\n",
       "      <th>AMWestPercentagesOfDelay</th>\n",
       "    </tr>\n",
       "  </thead>\n",
       "  <tbody>\n",
       "    <tr>\n",
       "      <th>0</th>\n",
       "      <td>Los Angeles</td>\n",
       "      <td>497</td>\n",
       "      <td>62</td>\n",
       "      <td>694</td>\n",
       "      <td>117</td>\n",
       "      <td>559</td>\n",
       "      <td>11.091234</td>\n",
       "      <td>811</td>\n",
       "      <td>14.426634</td>\n",
       "    </tr>\n",
       "    <tr>\n",
       "      <th>1</th>\n",
       "      <td>Phoenix</td>\n",
       "      <td>221</td>\n",
       "      <td>12</td>\n",
       "      <td>4840</td>\n",
       "      <td>415</td>\n",
       "      <td>233</td>\n",
       "      <td>5.150215</td>\n",
       "      <td>5255</td>\n",
       "      <td>7.897241</td>\n",
       "    </tr>\n",
       "    <tr>\n",
       "      <th>2</th>\n",
       "      <td>San Diego</td>\n",
       "      <td>212</td>\n",
       "      <td>20</td>\n",
       "      <td>383</td>\n",
       "      <td>65</td>\n",
       "      <td>232</td>\n",
       "      <td>8.620690</td>\n",
       "      <td>448</td>\n",
       "      <td>14.508929</td>\n",
       "    </tr>\n",
       "    <tr>\n",
       "      <th>3</th>\n",
       "      <td>San Francisco</td>\n",
       "      <td>503</td>\n",
       "      <td>102</td>\n",
       "      <td>320</td>\n",
       "      <td>129</td>\n",
       "      <td>605</td>\n",
       "      <td>16.859504</td>\n",
       "      <td>449</td>\n",
       "      <td>28.730512</td>\n",
       "    </tr>\n",
       "    <tr>\n",
       "      <th>4</th>\n",
       "      <td>Seattle</td>\n",
       "      <td>1841</td>\n",
       "      <td>305</td>\n",
       "      <td>201</td>\n",
       "      <td>61</td>\n",
       "      <td>2146</td>\n",
       "      <td>14.212488</td>\n",
       "      <td>262</td>\n",
       "      <td>23.282443</td>\n",
       "    </tr>\n",
       "  </tbody>\n",
       "</table>\n",
       "</div>"
      ],
      "text/plain": [
       "            City  AlaskaOnTime  AlaskaDelay  AMWestOnTime  AMWestDelay  \\\n",
       "0    Los Angeles           497           62           694          117   \n",
       "1        Phoenix           221           12          4840          415   \n",
       "2      San Diego           212           20           383           65   \n",
       "3  San Francisco           503          102           320          129   \n",
       "4        Seattle          1841          305           201           61   \n",
       "\n",
       "   TotalAlaskaArrivals  AlaskaPercentagesOfDelay  TotalAMWestArrivals  \\\n",
       "0                  559                 11.091234                  811   \n",
       "1                  233                  5.150215                 5255   \n",
       "2                  232                  8.620690                  448   \n",
       "3                  605                 16.859504                  449   \n",
       "4                 2146                 14.212488                  262   \n",
       "\n",
       "   AMWestPercentagesOfDelay  \n",
       "0                 14.426634  \n",
       "1                  7.897241  \n",
       "2                 14.508929  \n",
       "3                 28.730512  \n",
       "4                 23.282443  "
      ]
     },
     "execution_count": 7,
     "metadata": {},
     "output_type": "execute_result"
    }
   ],
   "source": [
    "airline_info"
   ]
  },
  {
   "cell_type": "markdown",
   "metadata": {},
   "source": [
    "As shown above, there are 4 new columns that was inserted: TotalAlaskaArrivals, AlaskaPercentagesOfDelay, TotalAMWestArrivals, AMWestPercentagesofDelay. Someone may conclude that AM West has more delayed arrivals than Alaska for Los Angeles. However, Alaska can have more delayed arrivals than AM West for Seattle. Since it is hard to determine from the whole pictures, let's create a concrete table with only the percentage of delays. These computations will accurately depict a proper analysis of both airlines."
   ]
  },
  {
   "cell_type": "markdown",
   "metadata": {},
   "source": [
    "##### Displaying Percentages of Delay:"
   ]
  },
  {
   "cell_type": "code",
   "execution_count": 12,
   "metadata": {
    "collapsed": false
   },
   "outputs": [
    {
     "data": {
      "text/html": [
       "<div>\n",
       "<table border=\"1\" class=\"dataframe\">\n",
       "  <thead>\n",
       "    <tr style=\"text-align: right;\">\n",
       "      <th></th>\n",
       "      <th>City</th>\n",
       "      <th>AlaskaPercentagesOfDelay</th>\n",
       "      <th>AMWestPercentagesOfDelay</th>\n",
       "    </tr>\n",
       "  </thead>\n",
       "  <tbody>\n",
       "    <tr>\n",
       "      <th>0</th>\n",
       "      <td>Los Angeles</td>\n",
       "      <td>11.091234</td>\n",
       "      <td>14.426634</td>\n",
       "    </tr>\n",
       "    <tr>\n",
       "      <th>1</th>\n",
       "      <td>Phoenix</td>\n",
       "      <td>5.150215</td>\n",
       "      <td>7.897241</td>\n",
       "    </tr>\n",
       "    <tr>\n",
       "      <th>2</th>\n",
       "      <td>San Diego</td>\n",
       "      <td>8.620690</td>\n",
       "      <td>14.508929</td>\n",
       "    </tr>\n",
       "    <tr>\n",
       "      <th>3</th>\n",
       "      <td>San Francisco</td>\n",
       "      <td>16.859504</td>\n",
       "      <td>28.730512</td>\n",
       "    </tr>\n",
       "    <tr>\n",
       "      <th>4</th>\n",
       "      <td>Seattle</td>\n",
       "      <td>14.212488</td>\n",
       "      <td>23.282443</td>\n",
       "    </tr>\n",
       "  </tbody>\n",
       "</table>\n",
       "</div>"
      ],
      "text/plain": [
       "            City  AlaskaPercentagesOfDelay  AMWestPercentagesOfDelay\n",
       "0    Los Angeles                 11.091234                 14.426634\n",
       "1        Phoenix                  5.150215                  7.897241\n",
       "2      San Diego                  8.620690                 14.508929\n",
       "3  San Francisco                 16.859504                 28.730512\n",
       "4        Seattle                 14.212488                 23.282443"
      ]
     },
     "execution_count": 12,
     "metadata": {},
     "output_type": "execute_result"
    }
   ],
   "source": [
    "percentages_of_delay = airline_info[['City','AlaskaPercentagesOfDelay', 'AMWestPercentagesOfDelay']]\n",
    "percentages_of_delay"
   ]
  },
  {
   "cell_type": "markdown",
   "metadata": {},
   "source": [
    "The table shown above is analogous to a SQL Query that displays certain rows in a SELECT statement. The percentage delay rates for Alaska and AM West are displayed side by side to accurately analayze which airline ultimately has the most delays."
   ]
  },
  {
   "cell_type": "markdown",
   "metadata": {},
   "source": [
    "### Final Analysis:"
   ]
  },
  {
   "cell_type": "markdown",
   "metadata": {},
   "source": [
    "Overall, AM West has more delays than Alaska based on percentages. Therefore, Alaska is more trusted than AM West in relation to arrival times. A data analyst may use this information as an example to compare all airlines for one year and determine how to improve arrival times for specific destination. If this information is approved to be displayed in public, then it becomes essential for travellers to decide which airline to choose if they want to base it on arrival delays. "
   ]
  }
 ],
 "metadata": {
  "kernelspec": {
   "display_name": "Python 3",
   "language": "python",
   "name": "python3"
  },
  "language_info": {
   "codemirror_mode": {
    "name": "ipython",
    "version": 3
   },
   "file_extension": ".py",
   "mimetype": "text/x-python",
   "name": "python",
   "nbconvert_exporter": "python",
   "pygments_lexer": "ipython3",
   "version": "3.6.0"
  }
 },
 "nbformat": 4,
 "nbformat_minor": 2
}
